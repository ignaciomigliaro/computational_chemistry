{
  "nbformat": 4,
  "nbformat_minor": 0,
  "metadata": {
    "colab": {
      "name": "IR spectra Symmetry",
      "provenance": [],
      "collapsed_sections": [],
      "authorship_tag": "ABX9TyPkMhpU3D0VMEdnIkhP22DA",
      "include_colab_link": true
    },
    "kernelspec": {
      "name": "python3",
      "display_name": "Python 3"
    },
    "language_info": {
      "name": "python"
    },
    "widgets": {
      "application/vnd.jupyter.widget-state+json": {
        "fa123cda693d4f249b7c1026c159c143": {
          "model_module": "@jupyter-widgets/controls",
          "model_name": "PlayModel",
          "model_module_version": "1.5.0",
          "state": {
            "_dom_classes": [],
            "_model_module": "@jupyter-widgets/controls",
            "_model_module_version": "1.5.0",
            "_model_name": "PlayModel",
            "_playing": false,
            "_repeat": false,
            "_view_count": null,
            "_view_module": "@jupyter-widgets/controls",
            "_view_module_version": "1.5.0",
            "_view_name": "PlayView",
            "description": "",
            "description_tooltip": null,
            "disabled": false,
            "interval": 100,
            "layout": "IPY_MODEL_7413e883ab8f4324bc2d5bf120fea556",
            "max": 0,
            "min": 0,
            "show_repeat": true,
            "step": 1,
            "style": "IPY_MODEL_fed1ef4a990c49a5b9e9b88f7284209e",
            "value": 0
          }
        },
        "a21e7a2263034131a7db605c2800299d": {
          "model_module": "@jupyter-widgets/controls",
          "model_name": "IntSliderModel",
          "model_module_version": "1.5.0",
          "state": {
            "_dom_classes": [],
            "_model_module": "@jupyter-widgets/controls",
            "_model_module_version": "1.5.0",
            "_model_name": "IntSliderModel",
            "_view_count": null,
            "_view_module": "@jupyter-widgets/controls",
            "_view_module_version": "1.5.0",
            "_view_name": "IntSliderView",
            "continuous_update": true,
            "description": "",
            "description_tooltip": null,
            "disabled": false,
            "layout": "IPY_MODEL_d621ee90c4c04934a52e06f401bd8e68",
            "max": 0,
            "min": 0,
            "orientation": "horizontal",
            "readout": true,
            "readout_format": "d",
            "step": 1,
            "style": "IPY_MODEL_91db04b1fcc04b75a456083a2f6bcc87",
            "value": 0
          }
        },
        "86fff2c2717645d1b9c517ef13f2d31a": {
          "model_module": "nglview-js-widgets",
          "model_name": "NGLModel",
          "model_module_version": "3.0.1",
          "state": {
            "_camera_orientation": [
              5.272047278810596,
              0,
              0,
              0,
              0,
              5.272047278810596,
              0,
              0,
              0,
              0,
              5.272047278810596,
              0,
              0,
              0,
              0,
              1
            ],
            "_camera_str": "orthographic",
            "_dom_classes": [],
            "_gui_theme": null,
            "_ibtn_fullscreen": "IPY_MODEL_8e916b88cbb74f9fb366ed7541c4fb9c",
            "_igui": null,
            "_iplayer": "IPY_MODEL_ad5b17fdeb1e40db8cc6574882c80cdd",
            "_model_module": "nglview-js-widgets",
            "_model_module_version": "3.0.1",
            "_model_name": "NGLModel",
            "_ngl_color_dict": {},
            "_ngl_coordinate_resource": {},
            "_ngl_full_stage_parameters": {
              "impostor": true,
              "quality": "medium",
              "workerDefault": true,
              "sampleLevel": 0,
              "backgroundColor": "white",
              "rotateSpeed": 2,
              "zoomSpeed": 1.2,
              "panSpeed": 1,
              "clipNear": 0,
              "clipFar": 100,
              "clipDist": 0,
              "fogNear": 50,
              "fogFar": 100,
              "cameraFov": 40,
              "cameraEyeSep": 0.3,
              "cameraType": "orthographic",
              "lightColor": 14540253,
              "lightIntensity": 1,
              "ambientColor": 14540253,
              "ambientIntensity": 0.2,
              "hoverTimeout": 0,
              "tooltip": true,
              "mousePreset": "default"
            },
            "_ngl_msg_archive": [
              {
                "target": "Stage",
                "type": "call_method",
                "methodName": "loadFile",
                "reconstruc_color_scheme": false,
                "args": [
                  {
                    "type": "blob",
                    "data": "MODEL     1\nATOM      1   Pt MOL     1       0.000   0.000   0.000  1.00  0.00          PT  \nATOM      2   Cl MOL     1      -1.000   0.000   0.000  1.00  0.00          CL  \nATOM      3   Cl MOL     1       1.000   0.000   0.000  1.00  0.00          CL  \nATOM      4   Cl MOL     1       0.000   1.000   0.000  1.00  0.00          CL  \nATOM      5   Cl MOL     1       0.000  -1.000   0.000  1.00  0.00          CL  \nENDMDL\n",
                    "binary": false
                  }
                ],
                "kwargs": {
                  "defaultRepresentation": false,
                  "ext": "pdb"
                }
              },
              {
                "target": "Widget",
                "type": "call_method",
                "methodName": "setSize",
                "reconstruc_color_scheme": false,
                "args": [
                  "500px",
                  "500px"
                ],
                "kwargs": {}
              },
              {
                "component_index": 0,
                "target": "compList",
                "type": "call_method",
                "methodName": "addRepresentation",
                "reconstruc_color_scheme": false,
                "args": [
                  "unitcell"
                ],
                "kwargs": {
                  "sele": "all"
                }
              },
              {
                "component_index": 0,
                "target": "compList",
                "type": "call_method",
                "methodName": "addRepresentation",
                "reconstruc_color_scheme": false,
                "args": [
                  "spacefill"
                ],
                "kwargs": {
                  "sele": "all"
                }
              },
              {
                "target": "Stage",
                "type": "call_method",
                "methodName": "setParameters",
                "reconstruc_color_scheme": false,
                "args": [],
                "kwargs": {
                  "cameraType": "orthographic"
                }
              },
              {
                "target": "Widget",
                "type": "call_method",
                "methodName": "setParameters",
                "reconstruc_color_scheme": false,
                "args": [
                  {
                    "clipDist": 0
                  }
                ],
                "kwargs": {}
              },
              {
                "target": "Widget",
                "type": "call_method",
                "methodName": "updateRepresentationsByName",
                "reconstruc_color_scheme": false,
                "args": [
                  "spacefill",
                  0
                ],
                "kwargs": {
                  "radiusType": "covalent",
                  "radiusScale": 0.5,
                  "colorScheme": "element",
                  "colorScale": "rainbow"
                }
              },
              {
                "target": "Widget",
                "type": "call_method",
                "methodName": "updateRepresentationsByName",
                "reconstruc_color_scheme": false,
                "args": [
                  "spacefill",
                  0
                ],
                "kwargs": {
                  "radiusType": "covalent",
                  "radiusScale": 0.5,
                  "colorScheme": "element",
                  "colorScale": "rainbow"
                }
              },
              {
                "target": "Widget",
                "type": "call_method",
                "methodName": "updateRepresentationsByName",
                "reconstruc_color_scheme": false,
                "args": [
                  "spacefill",
                  0
                ],
                "kwargs": {
                  "radiusType": "covalent",
                  "radiusScale": 0.49999999999999994,
                  "colorScheme": "element",
                  "colorScale": "rainbow"
                }
              },
              {
                "target": "Widget",
                "type": "call_method",
                "methodName": "updateRepresentationsByName",
                "reconstruc_color_scheme": false,
                "args": [
                  "spacefill",
                  0
                ],
                "kwargs": {
                  "radiusType": "covalent",
                  "radiusScale": 0.49999999999999994,
                  "colorScheme": "element",
                  "colorScale": "rainbow"
                }
              }
            ],
            "_ngl_original_stage_parameters": {
              "impostor": true,
              "quality": "medium",
              "workerDefault": true,
              "sampleLevel": 0,
              "backgroundColor": "white",
              "rotateSpeed": 2,
              "zoomSpeed": 1.2,
              "panSpeed": 1,
              "clipNear": 0,
              "clipFar": 100,
              "clipDist": 10,
              "fogNear": 50,
              "fogFar": 100,
              "cameraFov": 40,
              "cameraEyeSep": 0.3,
              "cameraType": "perspective",
              "lightColor": 14540253,
              "lightIntensity": 1,
              "ambientColor": 14540253,
              "ambientIntensity": 0.2,
              "hoverTimeout": 0,
              "tooltip": true,
              "mousePreset": "default"
            },
            "_ngl_repr_dict": {
              "0": {
                "0": {
                  "type": "unitcell",
                  "params": {
                    "lazy": false,
                    "visible": true,
                    "quality": "medium",
                    "radiusSize": 0.5,
                    "sphereDetail": 1,
                    "radialSegments": 10,
                    "disableImpostor": false,
                    "radiusType": "vdw",
                    "radiusData": {},
                    "radiusScale": 1,
                    "defaultAssembly": "",
                    "clipNear": 0,
                    "clipRadius": 0,
                    "clipCenter": {
                      "x": 0,
                      "y": 0,
                      "z": 0
                    },
                    "flatShaded": false,
                    "opacity": 1,
                    "depthWrite": true,
                    "side": "double",
                    "wireframe": false,
                    "colorScheme": "element",
                    "colorScale": "",
                    "colorReverse": false,
                    "colorValue": "orange",
                    "colorMode": "hcl",
                    "roughness": 0.4,
                    "metalness": 0,
                    "diffuse": 16777215,
                    "diffuseInterior": false,
                    "useInteriorColor": true,
                    "interiorColor": 2236962,
                    "interiorDarkening": 0,
                    "matrix": {
                      "elements": [
                        1,
                        0,
                        0,
                        0,
                        0,
                        1,
                        0,
                        0,
                        0,
                        0,
                        1,
                        0,
                        0,
                        0,
                        0,
                        1
                      ]
                    },
                    "disablePicking": false,
                    "sele": "all"
                  }
                },
                "1": {
                  "type": "unitcell",
                  "params": {
                    "lazy": false,
                    "visible": true,
                    "quality": "medium",
                    "radiusSize": 0.5,
                    "sphereDetail": 1,
                    "radialSegments": 10,
                    "disableImpostor": false,
                    "radiusType": "vdw",
                    "radiusData": {},
                    "radiusScale": 1,
                    "defaultAssembly": "",
                    "clipNear": 0,
                    "clipRadius": 0,
                    "clipCenter": {
                      "x": 0,
                      "y": 0,
                      "z": 0
                    },
                    "flatShaded": false,
                    "opacity": 1,
                    "depthWrite": true,
                    "side": "double",
                    "wireframe": false,
                    "colorScheme": "element",
                    "colorScale": "",
                    "colorReverse": false,
                    "colorValue": "orange",
                    "colorMode": "hcl",
                    "roughness": 0.4,
                    "metalness": 0,
                    "diffuse": 16777215,
                    "diffuseInterior": false,
                    "useInteriorColor": true,
                    "interiorColor": 2236962,
                    "interiorDarkening": 0,
                    "matrix": {
                      "elements": [
                        1,
                        0,
                        0,
                        0,
                        0,
                        1,
                        0,
                        0,
                        0,
                        0,
                        1,
                        0,
                        0,
                        0,
                        0,
                        1
                      ]
                    },
                    "disablePicking": false,
                    "sele": "all"
                  }
                },
                "2": {
                  "type": "spacefill",
                  "params": {
                    "lazy": false,
                    "visible": true,
                    "quality": "medium",
                    "sphereDetail": 1,
                    "disableImpostor": false,
                    "radiusType": "covalent",
                    "radiusData": {},
                    "radiusSize": 1,
                    "radiusScale": 0.5,
                    "assembly": "default",
                    "defaultAssembly": "",
                    "clipNear": 0,
                    "clipRadius": 0,
                    "clipCenter": {
                      "x": 0,
                      "y": 0,
                      "z": 0
                    },
                    "flatShaded": false,
                    "opacity": 1,
                    "depthWrite": true,
                    "side": "double",
                    "wireframe": false,
                    "colorScheme": "element",
                    "colorScale": "rainbow",
                    "colorReverse": false,
                    "colorValue": 9474192,
                    "colorMode": "hcl",
                    "roughness": 0.4,
                    "metalness": 0,
                    "diffuse": 16777215,
                    "diffuseInterior": false,
                    "useInteriorColor": true,
                    "interiorColor": 2236962,
                    "interiorDarkening": 0,
                    "matrix": {
                      "elements": [
                        1,
                        0,
                        0,
                        0,
                        0,
                        1,
                        0,
                        0,
                        0,
                        0,
                        1,
                        0,
                        0,
                        0,
                        0,
                        1
                      ]
                    },
                    "disablePicking": false,
                    "sele": "all"
                  }
                },
                "3": {
                  "type": "spacefill",
                  "params": {
                    "lazy": false,
                    "visible": true,
                    "quality": "medium",
                    "sphereDetail": 1,
                    "disableImpostor": false,
                    "radiusType": "covalent",
                    "radiusData": {},
                    "radiusSize": 1,
                    "radiusScale": 0.5,
                    "assembly": "default",
                    "defaultAssembly": "",
                    "clipNear": 0,
                    "clipRadius": 0,
                    "clipCenter": {
                      "x": 0,
                      "y": 0,
                      "z": 0
                    },
                    "flatShaded": false,
                    "opacity": 1,
                    "depthWrite": true,
                    "side": "double",
                    "wireframe": false,
                    "colorScheme": "element",
                    "colorScale": "rainbow",
                    "colorReverse": false,
                    "colorValue": 9474192,
                    "colorMode": "hcl",
                    "roughness": 0.4,
                    "metalness": 0,
                    "diffuse": 16777215,
                    "diffuseInterior": false,
                    "useInteriorColor": true,
                    "interiorColor": 2236962,
                    "interiorDarkening": 0,
                    "matrix": {
                      "elements": [
                        1,
                        0,
                        0,
                        0,
                        0,
                        1,
                        0,
                        0,
                        0,
                        0,
                        1,
                        0,
                        0,
                        0,
                        0,
                        1
                      ]
                    },
                    "disablePicking": false,
                    "sele": "all"
                  }
                }
              },
              "1": {}
            },
            "_ngl_serialize": false,
            "_ngl_version": "2.0.0-dev.36",
            "_ngl_view_id": [
              "09CD97A2-B169-4EAB-A2B6-8A9A6E6764A4"
            ],
            "_player_dict": {},
            "_scene_position": {},
            "_scene_rotation": {},
            "_synced_model_ids": [],
            "_synced_repr_model_ids": [],
            "_view_count": null,
            "_view_height": "",
            "_view_module": "nglview-js-widgets",
            "_view_module_version": "3.0.1",
            "_view_name": "NGLView",
            "_view_width": "",
            "background": "white",
            "frame": 0,
            "gui_style": null,
            "layout": "IPY_MODEL_d7ecbd73f3bd423992428f0a19736d50",
            "max_frame": 0,
            "n_components": 2,
            "picked": {}
          }
        },
        "7413e883ab8f4324bc2d5bf120fea556": {
          "model_module": "@jupyter-widgets/base",
          "model_name": "LayoutModel",
          "model_module_version": "1.2.0",
          "state": {
            "_model_module": "@jupyter-widgets/base",
            "_model_module_version": "1.2.0",
            "_model_name": "LayoutModel",
            "_view_count": null,
            "_view_module": "@jupyter-widgets/base",
            "_view_module_version": "1.2.0",
            "_view_name": "LayoutView",
            "align_content": null,
            "align_items": null,
            "align_self": null,
            "border": null,
            "bottom": null,
            "display": null,
            "flex": null,
            "flex_flow": null,
            "grid_area": null,
            "grid_auto_columns": null,
            "grid_auto_flow": null,
            "grid_auto_rows": null,
            "grid_column": null,
            "grid_gap": null,
            "grid_row": null,
            "grid_template_areas": null,
            "grid_template_columns": null,
            "grid_template_rows": null,
            "height": null,
            "justify_content": null,
            "justify_items": null,
            "left": null,
            "margin": null,
            "max_height": null,
            "max_width": null,
            "min_height": null,
            "min_width": null,
            "object_fit": null,
            "object_position": null,
            "order": null,
            "overflow": null,
            "overflow_x": null,
            "overflow_y": null,
            "padding": null,
            "right": null,
            "top": null,
            "visibility": null,
            "width": null
          }
        },
        "fed1ef4a990c49a5b9e9b88f7284209e": {
          "model_module": "@jupyter-widgets/controls",
          "model_name": "DescriptionStyleModel",
          "model_module_version": "1.5.0",
          "state": {
            "_model_module": "@jupyter-widgets/controls",
            "_model_module_version": "1.5.0",
            "_model_name": "DescriptionStyleModel",
            "_view_count": null,
            "_view_module": "@jupyter-widgets/base",
            "_view_module_version": "1.2.0",
            "_view_name": "StyleView",
            "description_width": ""
          }
        },
        "d621ee90c4c04934a52e06f401bd8e68": {
          "model_module": "@jupyter-widgets/base",
          "model_name": "LayoutModel",
          "model_module_version": "1.2.0",
          "state": {
            "_model_module": "@jupyter-widgets/base",
            "_model_module_version": "1.2.0",
            "_model_name": "LayoutModel",
            "_view_count": null,
            "_view_module": "@jupyter-widgets/base",
            "_view_module_version": "1.2.0",
            "_view_name": "LayoutView",
            "align_content": null,
            "align_items": null,
            "align_self": null,
            "border": null,
            "bottom": null,
            "display": null,
            "flex": null,
            "flex_flow": null,
            "grid_area": null,
            "grid_auto_columns": null,
            "grid_auto_flow": null,
            "grid_auto_rows": null,
            "grid_column": null,
            "grid_gap": null,
            "grid_row": null,
            "grid_template_areas": null,
            "grid_template_columns": null,
            "grid_template_rows": null,
            "height": null,
            "justify_content": null,
            "justify_items": null,
            "left": null,
            "margin": null,
            "max_height": null,
            "max_width": null,
            "min_height": null,
            "min_width": null,
            "object_fit": null,
            "object_position": null,
            "order": null,
            "overflow": null,
            "overflow_x": null,
            "overflow_y": null,
            "padding": null,
            "right": null,
            "top": null,
            "visibility": null,
            "width": null
          }
        },
        "91db04b1fcc04b75a456083a2f6bcc87": {
          "model_module": "@jupyter-widgets/controls",
          "model_name": "SliderStyleModel",
          "model_module_version": "1.5.0",
          "state": {
            "_model_module": "@jupyter-widgets/controls",
            "_model_module_version": "1.5.0",
            "_model_name": "SliderStyleModel",
            "_view_count": null,
            "_view_module": "@jupyter-widgets/base",
            "_view_module_version": "1.2.0",
            "_view_name": "StyleView",
            "description_width": "",
            "handle_color": null
          }
        },
        "927be1a2b38b4197a3be1692982e4507": {
          "model_module": "@jupyter-widgets/controls",
          "model_name": "HBoxModel",
          "model_module_version": "1.5.0",
          "state": {
            "_dom_classes": [],
            "_model_module": "@jupyter-widgets/controls",
            "_model_module_version": "1.5.0",
            "_model_name": "HBoxModel",
            "_view_count": null,
            "_view_module": "@jupyter-widgets/controls",
            "_view_module_version": "1.5.0",
            "_view_name": "HBoxView",
            "box_style": "",
            "children": [
              "IPY_MODEL_86fff2c2717645d1b9c517ef13f2d31a",
              "IPY_MODEL_49ff39a8a6c8453e995d0c95524a6a60"
            ],
            "layout": "IPY_MODEL_46ef632380b84627a4b9d095186744e7"
          }
        },
        "49ff39a8a6c8453e995d0c95524a6a60": {
          "model_module": "@jupyter-widgets/controls",
          "model_name": "VBoxModel",
          "model_module_version": "1.5.0",
          "state": {
            "_dom_classes": [],
            "_model_module": "@jupyter-widgets/controls",
            "_model_module_version": "1.5.0",
            "_model_name": "VBoxModel",
            "_view_count": null,
            "_view_module": "@jupyter-widgets/controls",
            "_view_module_version": "1.5.0",
            "_view_name": "VBoxView",
            "box_style": "",
            "children": [
              "IPY_MODEL_999335abd8ad4f7b814a4bd6c21233d2",
              "IPY_MODEL_cc010721c7f345b69c14b8b81b14132c",
              "IPY_MODEL_8eee39ea05534735849d315612b8be52"
            ],
            "layout": "IPY_MODEL_de22e7bd9b5246249404c1e8fb7b4048"
          }
        },
        "46ef632380b84627a4b9d095186744e7": {
          "model_module": "@jupyter-widgets/base",
          "model_name": "LayoutModel",
          "model_module_version": "1.2.0",
          "state": {
            "_model_module": "@jupyter-widgets/base",
            "_model_module_version": "1.2.0",
            "_model_name": "LayoutModel",
            "_view_count": null,
            "_view_module": "@jupyter-widgets/base",
            "_view_module_version": "1.2.0",
            "_view_name": "LayoutView",
            "align_content": null,
            "align_items": null,
            "align_self": null,
            "border": null,
            "bottom": null,
            "display": null,
            "flex": null,
            "flex_flow": null,
            "grid_area": null,
            "grid_auto_columns": null,
            "grid_auto_flow": null,
            "grid_auto_rows": null,
            "grid_column": null,
            "grid_gap": null,
            "grid_row": null,
            "grid_template_areas": null,
            "grid_template_columns": null,
            "grid_template_rows": null,
            "height": null,
            "justify_content": null,
            "justify_items": null,
            "left": null,
            "margin": null,
            "max_height": null,
            "max_width": null,
            "min_height": null,
            "min_width": null,
            "object_fit": null,
            "object_position": null,
            "order": null,
            "overflow": null,
            "overflow_x": null,
            "overflow_y": null,
            "padding": null,
            "right": null,
            "top": null,
            "visibility": null,
            "width": null
          }
        },
        "999335abd8ad4f7b814a4bd6c21233d2": {
          "model_module": "@jupyter-widgets/controls",
          "model_name": "DropdownModel",
          "model_module_version": "1.5.0",
          "state": {
            "_dom_classes": [],
            "_model_module": "@jupyter-widgets/controls",
            "_model_module_version": "1.5.0",
            "_model_name": "DropdownModel",
            "_options_labels": [
              "All",
              "Cl",
              "Pt"
            ],
            "_view_count": null,
            "_view_module": "@jupyter-widgets/controls",
            "_view_module_version": "1.5.0",
            "_view_name": "DropdownView",
            "description": "Show",
            "description_tooltip": null,
            "disabled": false,
            "index": 0,
            "layout": "IPY_MODEL_6522116242c9446492779dd6402e31b9",
            "style": "IPY_MODEL_01f8c897edf54f6da4016c126c3332c4"
          }
        },
        "cc010721c7f345b69c14b8b81b14132c": {
          "model_module": "@jupyter-widgets/controls",
          "model_name": "DropdownModel",
          "model_module_version": "1.5.0",
          "state": {
            "_dom_classes": [],
            "_model_module": "@jupyter-widgets/controls",
            "_model_module_version": "1.5.0",
            "_model_name": "DropdownModel",
            "_options_labels": [
              " ",
              "picking",
              "random",
              "uniform",
              "atomindex",
              "residueindex",
              "chainindex",
              "modelindex",
              "sstruc",
              "element",
              "resname",
              "bfactor",
              "hydrophobicity",
              "value",
              "volume",
              "occupancy"
            ],
            "_view_count": null,
            "_view_module": "@jupyter-widgets/controls",
            "_view_module_version": "1.5.0",
            "_view_name": "DropdownView",
            "description": "Color scheme",
            "description_tooltip": null,
            "disabled": false,
            "index": 9,
            "layout": "IPY_MODEL_d6557307011f4747acc3d089e96ce4f7",
            "style": "IPY_MODEL_1112dc5fcfa04655b74f7efc47439be8"
          }
        },
        "8eee39ea05534735849d315612b8be52": {
          "model_module": "@jupyter-widgets/controls",
          "model_name": "FloatSliderModel",
          "model_module_version": "1.5.0",
          "state": {
            "_dom_classes": [],
            "_model_module": "@jupyter-widgets/controls",
            "_model_module_version": "1.5.0",
            "_model_name": "FloatSliderModel",
            "_view_count": null,
            "_view_module": "@jupyter-widgets/controls",
            "_view_module_version": "1.5.0",
            "_view_name": "FloatSliderView",
            "continuous_update": true,
            "description": "Ball size",
            "description_tooltip": null,
            "disabled": false,
            "layout": "IPY_MODEL_f68fcf3921794cdc8d1f8a02594658da",
            "max": 1.5,
            "min": 0,
            "orientation": "horizontal",
            "readout": true,
            "readout_format": ".2f",
            "step": 0.01,
            "style": "IPY_MODEL_69dd3cb276284b83a7b1ad41ef74b560",
            "value": 0.49999999999999994
          }
        },
        "de22e7bd9b5246249404c1e8fb7b4048": {
          "model_module": "@jupyter-widgets/base",
          "model_name": "LayoutModel",
          "model_module_version": "1.2.0",
          "state": {
            "_model_module": "@jupyter-widgets/base",
            "_model_module_version": "1.2.0",
            "_model_name": "LayoutModel",
            "_view_count": null,
            "_view_module": "@jupyter-widgets/base",
            "_view_module_version": "1.2.0",
            "_view_name": "LayoutView",
            "align_content": null,
            "align_items": null,
            "align_self": null,
            "border": null,
            "bottom": null,
            "display": null,
            "flex": null,
            "flex_flow": null,
            "grid_area": null,
            "grid_auto_columns": null,
            "grid_auto_flow": null,
            "grid_auto_rows": null,
            "grid_column": null,
            "grid_gap": null,
            "grid_row": null,
            "grid_template_areas": null,
            "grid_template_columns": null,
            "grid_template_rows": null,
            "height": null,
            "justify_content": null,
            "justify_items": null,
            "left": null,
            "margin": null,
            "max_height": null,
            "max_width": null,
            "min_height": null,
            "min_width": null,
            "object_fit": null,
            "object_position": null,
            "order": null,
            "overflow": null,
            "overflow_x": null,
            "overflow_y": null,
            "padding": null,
            "right": null,
            "top": null,
            "visibility": null,
            "width": null
          }
        },
        "6522116242c9446492779dd6402e31b9": {
          "model_module": "@jupyter-widgets/base",
          "model_name": "LayoutModel",
          "model_module_version": "1.2.0",
          "state": {
            "_model_module": "@jupyter-widgets/base",
            "_model_module_version": "1.2.0",
            "_model_name": "LayoutModel",
            "_view_count": null,
            "_view_module": "@jupyter-widgets/base",
            "_view_module_version": "1.2.0",
            "_view_name": "LayoutView",
            "align_content": null,
            "align_items": null,
            "align_self": null,
            "border": null,
            "bottom": null,
            "display": null,
            "flex": null,
            "flex_flow": null,
            "grid_area": null,
            "grid_auto_columns": null,
            "grid_auto_flow": null,
            "grid_auto_rows": null,
            "grid_column": null,
            "grid_gap": null,
            "grid_row": null,
            "grid_template_areas": null,
            "grid_template_columns": null,
            "grid_template_rows": null,
            "height": null,
            "justify_content": null,
            "justify_items": null,
            "left": null,
            "margin": null,
            "max_height": null,
            "max_width": null,
            "min_height": null,
            "min_width": null,
            "object_fit": null,
            "object_position": null,
            "order": null,
            "overflow": null,
            "overflow_x": null,
            "overflow_y": null,
            "padding": null,
            "right": null,
            "top": null,
            "visibility": null,
            "width": null
          }
        },
        "01f8c897edf54f6da4016c126c3332c4": {
          "model_module": "@jupyter-widgets/controls",
          "model_name": "DescriptionStyleModel",
          "model_module_version": "1.5.0",
          "state": {
            "_model_module": "@jupyter-widgets/controls",
            "_model_module_version": "1.5.0",
            "_model_name": "DescriptionStyleModel",
            "_view_count": null,
            "_view_module": "@jupyter-widgets/base",
            "_view_module_version": "1.2.0",
            "_view_name": "StyleView",
            "description_width": ""
          }
        },
        "d6557307011f4747acc3d089e96ce4f7": {
          "model_module": "@jupyter-widgets/base",
          "model_name": "LayoutModel",
          "model_module_version": "1.2.0",
          "state": {
            "_model_module": "@jupyter-widgets/base",
            "_model_module_version": "1.2.0",
            "_model_name": "LayoutModel",
            "_view_count": null,
            "_view_module": "@jupyter-widgets/base",
            "_view_module_version": "1.2.0",
            "_view_name": "LayoutView",
            "align_content": null,
            "align_items": null,
            "align_self": null,
            "border": null,
            "bottom": null,
            "display": null,
            "flex": null,
            "flex_flow": null,
            "grid_area": null,
            "grid_auto_columns": null,
            "grid_auto_flow": null,
            "grid_auto_rows": null,
            "grid_column": null,
            "grid_gap": null,
            "grid_row": null,
            "grid_template_areas": null,
            "grid_template_columns": null,
            "grid_template_rows": null,
            "height": null,
            "justify_content": null,
            "justify_items": null,
            "left": null,
            "margin": null,
            "max_height": null,
            "max_width": null,
            "min_height": null,
            "min_width": null,
            "object_fit": null,
            "object_position": null,
            "order": null,
            "overflow": null,
            "overflow_x": null,
            "overflow_y": null,
            "padding": null,
            "right": null,
            "top": null,
            "visibility": null,
            "width": null
          }
        },
        "1112dc5fcfa04655b74f7efc47439be8": {
          "model_module": "@jupyter-widgets/controls",
          "model_name": "DescriptionStyleModel",
          "model_module_version": "1.5.0",
          "state": {
            "_model_module": "@jupyter-widgets/controls",
            "_model_module_version": "1.5.0",
            "_model_name": "DescriptionStyleModel",
            "_view_count": null,
            "_view_module": "@jupyter-widgets/base",
            "_view_module_version": "1.2.0",
            "_view_name": "StyleView",
            "description_width": ""
          }
        },
        "f68fcf3921794cdc8d1f8a02594658da": {
          "model_module": "@jupyter-widgets/base",
          "model_name": "LayoutModel",
          "model_module_version": "1.2.0",
          "state": {
            "_model_module": "@jupyter-widgets/base",
            "_model_module_version": "1.2.0",
            "_model_name": "LayoutModel",
            "_view_count": null,
            "_view_module": "@jupyter-widgets/base",
            "_view_module_version": "1.2.0",
            "_view_name": "LayoutView",
            "align_content": null,
            "align_items": null,
            "align_self": null,
            "border": null,
            "bottom": null,
            "display": null,
            "flex": null,
            "flex_flow": null,
            "grid_area": null,
            "grid_auto_columns": null,
            "grid_auto_flow": null,
            "grid_auto_rows": null,
            "grid_column": null,
            "grid_gap": null,
            "grid_row": null,
            "grid_template_areas": null,
            "grid_template_columns": null,
            "grid_template_rows": null,
            "height": null,
            "justify_content": null,
            "justify_items": null,
            "left": null,
            "margin": null,
            "max_height": null,
            "max_width": null,
            "min_height": null,
            "min_width": null,
            "object_fit": null,
            "object_position": null,
            "order": null,
            "overflow": null,
            "overflow_x": null,
            "overflow_y": null,
            "padding": null,
            "right": null,
            "top": null,
            "visibility": null,
            "width": null
          }
        },
        "69dd3cb276284b83a7b1ad41ef74b560": {
          "model_module": "@jupyter-widgets/controls",
          "model_name": "SliderStyleModel",
          "model_module_version": "1.5.0",
          "state": {
            "_model_module": "@jupyter-widgets/controls",
            "_model_module_version": "1.5.0",
            "_model_name": "SliderStyleModel",
            "_view_count": null,
            "_view_module": "@jupyter-widgets/base",
            "_view_module_version": "1.2.0",
            "_view_name": "StyleView",
            "description_width": "",
            "handle_color": null
          }
        },
        "d7ecbd73f3bd423992428f0a19736d50": {
          "model_module": "@jupyter-widgets/base",
          "model_name": "LayoutModel",
          "model_module_version": "1.2.0",
          "state": {
            "_model_module": "@jupyter-widgets/base",
            "_model_module_version": "1.2.0",
            "_model_name": "LayoutModel",
            "_view_count": null,
            "_view_module": "@jupyter-widgets/base",
            "_view_module_version": "1.2.0",
            "_view_name": "LayoutView",
            "align_content": null,
            "align_items": null,
            "align_self": null,
            "border": null,
            "bottom": null,
            "display": null,
            "flex": null,
            "flex_flow": null,
            "grid_area": null,
            "grid_auto_columns": null,
            "grid_auto_flow": null,
            "grid_auto_rows": null,
            "grid_column": null,
            "grid_gap": null,
            "grid_row": null,
            "grid_template_areas": null,
            "grid_template_columns": null,
            "grid_template_rows": null,
            "height": null,
            "justify_content": null,
            "justify_items": null,
            "left": null,
            "margin": null,
            "max_height": null,
            "max_width": null,
            "min_height": null,
            "min_width": null,
            "object_fit": null,
            "object_position": null,
            "order": null,
            "overflow": null,
            "overflow_x": null,
            "overflow_y": null,
            "padding": null,
            "right": null,
            "top": null,
            "visibility": null,
            "width": null
          }
        },
        "8e916b88cbb74f9fb366ed7541c4fb9c": {
          "model_module": "@jupyter-widgets/controls",
          "model_name": "ButtonModel",
          "model_module_version": "1.5.0",
          "state": {
            "_dom_classes": [],
            "_model_module": "@jupyter-widgets/controls",
            "_model_module_version": "1.5.0",
            "_model_name": "ButtonModel",
            "_view_count": null,
            "_view_module": "@jupyter-widgets/controls",
            "_view_module_version": "1.5.0",
            "_view_name": "ButtonView",
            "button_style": "",
            "description": "",
            "disabled": false,
            "icon": "compress",
            "layout": "IPY_MODEL_4ba3086a4dd14ba0b607ac1c46862b77",
            "style": "IPY_MODEL_74e6472509ad48dd8e71660fd541aabd",
            "tooltip": ""
          }
        },
        "ad5b17fdeb1e40db8cc6574882c80cdd": {
          "model_module": "@jupyter-widgets/controls",
          "model_name": "HBoxModel",
          "model_module_version": "1.5.0",
          "state": {
            "_dom_classes": [],
            "_model_module": "@jupyter-widgets/controls",
            "_model_module_version": "1.5.0",
            "_model_name": "HBoxModel",
            "_view_count": null,
            "_view_module": "@jupyter-widgets/controls",
            "_view_module_version": "1.5.0",
            "_view_name": "HBoxView",
            "box_style": "",
            "children": [
              "IPY_MODEL_fa123cda693d4f249b7c1026c159c143",
              "IPY_MODEL_a21e7a2263034131a7db605c2800299d"
            ],
            "layout": "IPY_MODEL_ca584ec2a0c44f9987f152627109d12f"
          }
        },
        "4ba3086a4dd14ba0b607ac1c46862b77": {
          "model_module": "@jupyter-widgets/base",
          "model_name": "LayoutModel",
          "model_module_version": "1.2.0",
          "state": {
            "_model_module": "@jupyter-widgets/base",
            "_model_module_version": "1.2.0",
            "_model_name": "LayoutModel",
            "_view_count": null,
            "_view_module": "@jupyter-widgets/base",
            "_view_module_version": "1.2.0",
            "_view_name": "LayoutView",
            "align_content": null,
            "align_items": null,
            "align_self": null,
            "border": null,
            "bottom": null,
            "display": null,
            "flex": null,
            "flex_flow": null,
            "grid_area": null,
            "grid_auto_columns": null,
            "grid_auto_flow": null,
            "grid_auto_rows": null,
            "grid_column": null,
            "grid_gap": null,
            "grid_row": null,
            "grid_template_areas": null,
            "grid_template_columns": null,
            "grid_template_rows": null,
            "height": null,
            "justify_content": null,
            "justify_items": null,
            "left": null,
            "margin": null,
            "max_height": null,
            "max_width": null,
            "min_height": null,
            "min_width": null,
            "object_fit": null,
            "object_position": null,
            "order": null,
            "overflow": null,
            "overflow_x": null,
            "overflow_y": null,
            "padding": null,
            "right": null,
            "top": null,
            "visibility": null,
            "width": "34px"
          }
        },
        "74e6472509ad48dd8e71660fd541aabd": {
          "model_module": "@jupyter-widgets/controls",
          "model_name": "ButtonStyleModel",
          "model_module_version": "1.5.0",
          "state": {
            "_model_module": "@jupyter-widgets/controls",
            "_model_module_version": "1.5.0",
            "_model_name": "ButtonStyleModel",
            "_view_count": null,
            "_view_module": "@jupyter-widgets/base",
            "_view_module_version": "1.2.0",
            "_view_name": "StyleView",
            "button_color": null,
            "font_weight": ""
          }
        },
        "ca584ec2a0c44f9987f152627109d12f": {
          "model_module": "@jupyter-widgets/base",
          "model_name": "LayoutModel",
          "model_module_version": "1.2.0",
          "state": {
            "_model_module": "@jupyter-widgets/base",
            "_model_module_version": "1.2.0",
            "_model_name": "LayoutModel",
            "_view_count": null,
            "_view_module": "@jupyter-widgets/base",
            "_view_module_version": "1.2.0",
            "_view_name": "LayoutView",
            "align_content": null,
            "align_items": null,
            "align_self": null,
            "border": null,
            "bottom": null,
            "display": null,
            "flex": null,
            "flex_flow": null,
            "grid_area": null,
            "grid_auto_columns": null,
            "grid_auto_flow": null,
            "grid_auto_rows": null,
            "grid_column": null,
            "grid_gap": null,
            "grid_row": null,
            "grid_template_areas": null,
            "grid_template_columns": null,
            "grid_template_rows": null,
            "height": null,
            "justify_content": null,
            "justify_items": null,
            "left": null,
            "margin": null,
            "max_height": null,
            "max_width": null,
            "min_height": null,
            "min_width": null,
            "object_fit": null,
            "object_position": null,
            "order": null,
            "overflow": null,
            "overflow_x": null,
            "overflow_y": null,
            "padding": null,
            "right": null,
            "top": null,
            "visibility": null,
            "width": null
          }
        }
      }
    }
  },
  "cells": [
    {
      "cell_type": "markdown",
      "metadata": {
        "id": "view-in-github",
        "colab_type": "text"
      },
      "source": [
        "<a href=\"https://colab.research.google.com/github/ignaciomigliaro/computational_chemistry/blob/master/IR_spectra_Symmetry.ipynb\" target=\"_parent\"><img src=\"https://colab.research.google.com/assets/colab-badge.svg\" alt=\"Open In Colab\"/></a>"
      ]
    },
    {
      "cell_type": "markdown",
      "source": [
        "#Predicition of IR and Raman bands with Group theory \n",
        "\n"
      ],
      "metadata": {
        "id": "zJba5MItjvaA"
      }
    },
    {
      "cell_type": "markdown",
      "source": [
        "This notebook is designed to predict IR and Raman bands from Group symmetry of molecules, the user must define a few parameters that have been learned in class. This is a notebook for people with all levels of  Python and are currently looking at symmetry operations as to how they relate to IR and Raman spectroscopy. "
      ],
      "metadata": {
        "id": "u8K1-BrMnQge"
      }
    },
    {
      "cell_type": "markdown",
      "source": [
        "### Downloading dependencies\n",
        "\n",
        "The notebook will make use of the article by Brian K. Niece, A Spreadsheet To Facilitate Group Theory Calculations and Display of Character Tables. [Download Link of Excel list of character tables](https://pubs.acs.org/doi/suppl/10.1021/ed300281d/suppl_file/ed300281d_si_001.xls)\n",
        "\n"
      ],
      "metadata": {
        "id": "-HmxEbAumd8W"
      }
    },
    {
      "cell_type": "markdown",
      "source": [
        "\n",
        "We will install a molecular visualizer to make the calculations easier to comprehend. Using the pip install, it will provide the dependencies needed to run these GUI interfaces."
      ],
      "metadata": {
        "id": "0cdHSSCxxc1O"
      }
    },
    {
      "cell_type": "code",
      "source": [
        "!pip install -q ase\n",
        "!pip install -q nglview"
      ],
      "metadata": {
        "id": "uvjCeAV8xMxv",
        "colab": {
          "base_uri": "https://localhost:8080/"
        },
        "outputId": "218e00e8-2221-4401-8eeb-33bce998938f"
      },
      "execution_count": null,
      "outputs": [
        {
          "output_type": "stream",
          "name": "stdout",
          "text": [
            "\u001b[K     |████████████████████████████████| 2.2 MB 5.2 MB/s \n",
            "\u001b[K     |████████████████████████████████| 5.7 MB 4.9 MB/s \n",
            "\u001b[?25h  Installing build dependencies ... \u001b[?25l\u001b[?25hdone\n",
            "  Getting requirements to build wheel ... \u001b[?25l\u001b[?25hdone\n",
            "    Preparing wheel metadata ... \u001b[?25l\u001b[?25hdone\n",
            "  Building wheel for nglview (PEP 517) ... \u001b[?25l\u001b[?25hdone\n"
          ]
        }
      ]
    },
    {
      "cell_type": "markdown",
      "source": [
        "## Defining Geometries and Coordinates\n",
        "<p align = \"justify\">Below we define different geometries and assign their xyz coordinates to each atom, the goal of this notebook is to learn how symmetry operations work and how they can be used to obtain IR spectra. To ease the comprehension of the user, pre-defined geometries have been included from which the user can choose. The notebook will focus on the use of $D_{4h}$ molecule, to be consistent with the explanations. \n",
        "\n",
        "\n",
        "It is possible for the user to define different geometries and try to use the symmetry operations on them, they have to define the xyz coordinates and make sure that the main axis of rotation is in the z axis and the coordinates are centered around the center of gravity.</p>"
      ],
      "metadata": {
        "id": "tuzYTSL8nhDu"
      }
    },
    {
      "cell_type": "code",
      "source": [
        "import numpy as np\n",
        "\n",
        "# If the user wants to use a geometry not included in this notebook they can add the geometry by hand by defining the function for it and later calling it, \n",
        "#make sure to use the same format of defining each ligand seperately. \n",
        "\n",
        "#def user_geometry():\n",
        "  #center_of_molecule_desired=np.array([x,y,z])\n",
        "  #ligand1=np.array([x,y,z])\n",
        "  #ligand2=np.array([x,y,z])\n",
        "  #atoms=np.array(['atom1','atom2','atom3'])   #where atom1,atom2,etc. are placed, is where you put the name of each atom, using atom abbreviation.\n",
        "def tetrahedral():\n",
        "  m=np.array([0,0,0])\n",
        "  l1=np.array([-1,0,0])\n",
        "  l2=np.array([1,0,0])\n",
        "  l3=np.array([0,1,0])\n",
        "  l4=np.array([0,-1,0])\n",
        "  atoms=np.array(['Pt','Cl','Cl','Cl','Cl'])\n",
        "  return(m,l1,l2,l3,l4,atoms)\n",
        "def square_planar():\n",
        "  m=np.array([0,0,0])\n",
        "  l1=np.array([-1,0,0])\n",
        "  l2=np.array([1,0,0])\n",
        "  l3=np.array([0,1,0])\n",
        "  l4=np.array([0,-1,0])\n",
        "  atoms=np.array(['Pt','Cl','Cl','Cl','Cl'])\n",
        "  return(m,l1,l2,l3,l4,atoms)\n",
        "def octahedral():\n",
        "  m=np.array([0,0,0])\n",
        "  l1=np.array([-1,0,0])\n",
        "  l2=np.array([1,0,0])\n",
        "  l3=np.array([0,1,0])\n",
        "  l4=np.array([0,-1,0])\n",
        "  l5=np.array([0,0,1])\n",
        "  l6=np.array([0,0,-1])\n",
        "  atoms=np.array(['Fe','Cl','Cl','Cl','Cl','Cl','Cl'])\n",
        "  return(m,l1,l2,l3,l4,l5,l6,atoms)\n"
      ],
      "metadata": {
        "id": "xZIEySzeqTs_"
      },
      "execution_count": null,
      "outputs": []
    },
    {
      "cell_type": "markdown",
      "source": [
        "## Choosing pre-defined geometry and visualizing molecule\n",
        "\n",
        "From the previously defined functions, the coordinates and the atom types are declared so that the ASE python library can visualize the molecule. For simplicity this code assumes that all ligands are the same, so we do not have to add the atom column to the matrix. "
      ],
      "metadata": {
        "id": "AGG4VmD359ni"
      }
    },
    {
      "cell_type": "code",
      "source": [
        "from ase import Atoms\n",
        "import ase.visualize\n",
        "from ase.visualize import view\n",
        "import nglview\n",
        "from google.colab import output\n",
        "output.enable_custom_widget_manager()\n",
        "\n",
        "#The preselected geometries are: 1.square planar, 2.octahedral, 3.tetrahedral 4. User-defined geometry \n",
        "a=3\n",
        "\n",
        "if a == 1: \n",
        "  m,l1,l2,l3,l4,names=tetrahedral()\n",
        "  atoms=np.vstack([m,l1,l2,l3,l4])\n",
        "  ligands=np.vstack([l1,l2,l3,l4])\n",
        "  n_atoms=5\n",
        "  \n",
        "if a == 2:\n",
        "  m,l1,l2,l3,l4,l5,l6,names=octahedral()\n",
        "  atoms=np.vstack([m,l1,l2,l3,l4,l5,l6])\n",
        "  ligands=np.vstack([l1,l2,l3,l4,l5,l6])\n",
        "  n_atoms=7\n",
        "if a==3: \n",
        "  m,l1,l2,l3,l4,names=square_planar()\n",
        "  atoms=np.vstack([m,l1,l2,l3,l4])\n",
        "  ligands=np.vstack([l1,l2,l3,l4])\n",
        "  n_atoms=5\n",
        "\n",
        "\n",
        "#If the user define their own geometry it can be used here\n",
        "\n",
        "#if a==4\n",
        " #m,l1,l2,... whatever number of atoms you chose = m,l1,l2,l3,l4,names=user_geometry()\n",
        "symbols=names \n",
        "system= Atoms(positions=atoms, symbols=names)\n",
        "ase.visualize.view(system,viewer='ngl')\n",
        "  \n"
      ],
      "metadata": {
        "colab": {
          "base_uri": "https://localhost:8080/",
          "height": 517,
          "referenced_widgets": [
            "fa123cda693d4f249b7c1026c159c143",
            "a21e7a2263034131a7db605c2800299d",
            "86fff2c2717645d1b9c517ef13f2d31a",
            "7413e883ab8f4324bc2d5bf120fea556",
            "fed1ef4a990c49a5b9e9b88f7284209e",
            "d621ee90c4c04934a52e06f401bd8e68",
            "91db04b1fcc04b75a456083a2f6bcc87",
            "927be1a2b38b4197a3be1692982e4507",
            "49ff39a8a6c8453e995d0c95524a6a60",
            "46ef632380b84627a4b9d095186744e7",
            "999335abd8ad4f7b814a4bd6c21233d2",
            "cc010721c7f345b69c14b8b81b14132c",
            "8eee39ea05534735849d315612b8be52",
            "de22e7bd9b5246249404c1e8fb7b4048",
            "6522116242c9446492779dd6402e31b9",
            "01f8c897edf54f6da4016c126c3332c4",
            "d6557307011f4747acc3d089e96ce4f7",
            "1112dc5fcfa04655b74f7efc47439be8",
            "f68fcf3921794cdc8d1f8a02594658da",
            "69dd3cb276284b83a7b1ad41ef74b560",
            "d7ecbd73f3bd423992428f0a19736d50",
            "8e916b88cbb74f9fb366ed7541c4fb9c",
            "ad5b17fdeb1e40db8cc6574882c80cdd",
            "4ba3086a4dd14ba0b607ac1c46862b77",
            "74e6472509ad48dd8e71660fd541aabd",
            "ca584ec2a0c44f9987f152627109d12f"
          ]
        },
        "id": "XcHt1VBdxb9A",
        "outputId": "5bc2de1e-c9db-46e5-e024-0026a0a9e092"
      },
      "execution_count": 132,
      "outputs": [
        {
          "output_type": "display_data",
          "data": {
            "text/plain": [
              "HBox(children=(NGLWidget(), VBox(children=(Dropdown(description='Show', options=('All', 'Cl', 'Pt'), value='Al…"
            ],
            "application/vnd.jupyter.widget-view+json": {
              "version_major": 2,
              "version_minor": 0,
              "model_id": "927be1a2b38b4197a3be1692982e4507"
            }
          },
          "metadata": {
            "application/vnd.jupyter.widget-view+json": {
              "colab": {
                "custom_widget_manager": {
                  "url": "https://ssl.gstatic.com/colaboratory-static/widgets/colab-cdn-widget-manager/a8874ba6619b6106/manager.min.js"
                }
              }
            }
          }
        }
      ]
    },
    {
      "cell_type": "markdown",
      "source": [
        "## Defining symmetry operations:\n",
        "\n",
        "Now that we have established the molecule and the symmetry that accompanies it, we can start defining the symmetry operations that define it's point group, you can check these point group operations in the excel we have downloaded previously. "
      ],
      "metadata": {
        "id": "-Tq7XiiELLd1"
      }
    },
    {
      "cell_type": "markdown",
      "source": [
        "Infrarred (IR) spectroscopy is one of the most widely used characterization techniques in chemistry. It is used to quantify the vibrational movements of molecules. A way to determine if a molecule will be active in IR or Raman is by seeing if the symmetry operation changes "
      ],
      "metadata": {
        "id": "RTWpz-WmvjZC"
      }
    },
    {
      "cell_type": "markdown",
      "source": [
        "Symmetry operations are matrix operations. In the case of square planar geometry, it's point group is $D_{4h}$. Using the point group excel we have previously downloaded we can see that the symmetry operations for a $D_{4h}$ are: \n",
        "\n",
        "\n",
        "1.   E\n",
        "2.   2$C_4$\n",
        "3. $C_2$\n",
        "4. $2C_2'$\n",
        "5. $2C_2\"$\n",
        "6. i\n",
        "7. $2S_4$\n",
        "8. $\\sigma_h$\n",
        "9. $2\\sigma_v $\n",
        "10. $2\\sigma_d $ \n",
        "\n"
      ],
      "metadata": {
        "id": "bxdg644awAnw"
      }
    },
    {
      "cell_type": "markdown",
      "source": [
        "Each symmetry operation can be defined as a matrix: \n",
        "<div>\n",
        "<img src=\"https://drive.google.com/uc?export=view&id=1ieiY_p0Ckgpe_ev7Z5tc59Ds0Zo56WDH\" width=200 align=\"right\">\n",
        "1. E \\begin{pmatrix}\n",
        "1 & 0 & 0\\\\\n",
        "0 & 1 & 0\\\\\n",
        "0 & 0 & 1\n",
        "\\end{pmatrix}\n",
        "<div>\n",
        "<p>&nbsp;</p>\n",
        "<p>&nbsp;</p>\n",
        "<p>&nbsp;</p>\n",
        "\n",
        "<div>\n",
        "<img src=\"https://drive.google.com/uc?export=view&id=1zTttiYt1kBPv8NSaRLVE3MOcKe32LF-V\" width=200 align=\"right\">\n",
        "2. $C_4$\n",
        " \\begin{pmatrix}\n",
        "cos(\\theta) & -sin(\\theta) & 0\\\\\n",
        "sin(\\theta) & cos(\\theta) & 0\\\\\n",
        "0 & 0 & 1\n",
        "\\end{pmatrix}\n",
        "Here $\\theta = \\frac{\\pi}{2}$, therefore $cos(\\frac{\\pi}{2})=0$ and $sin(\\frac{\\pi}{2})=1$, this is the definition for a rotation on the z-axis.\n",
        "<p>&nbsp;</p>\n",
        "<p>&nbsp;</p>\n",
        "<p>&nbsp;</p>\n",
        "<div>\n",
        "<img src=\"https://drive.google.com/uc?export=view&id=1ZeDMfi3x5ONpun4tQN3F5tINNMyEiWnQ\" width=200 align=\"right\">\n",
        "3. $C_2$\n",
        " \\begin{pmatrix}\n",
        "cos(\\theta) & -sin(\\theta) & 0\\\\\n",
        "sin(\\theta) & cos(\\theta) & 0\\\\\n",
        "0 & 0 & 1\n",
        "\\end{pmatrix}\n",
        "\n",
        "Here $\\theta = \\pi$, therefore $cos(\\pi)=1$ and $sin(\\pi)=0$, this is the definition for a rotation on the z-axis.\n",
        "<p>&nbsp;</p>\n",
        "<p>&nbsp;</p>\n",
        "<p>&nbsp;</p>\n",
        "<div>\n",
        "<img src=\"https://drive.google.com/uc?export=view&id=1K5ckR8UPx95oggRoU2e9nRPLyT_r2tN4\" width=200 align=\"right\">\n",
        "4. $C_2^{'}$\n",
        " \\begin{pmatrix}\n",
        "cos(\\theta) & 0 & -sin(\\theta)\\\\\n",
        "0 & 1 & 0\\\\\n",
        "sin(\\theta) & 0 & cos(\\theta)\n",
        "\\end{pmatrix}\n",
        "\n",
        "Here $\\theta = \\pi$, therefore $cos(\\pi)=1$ and $sin(\\pi)=0$, this is the definition for a rotation on the y-axis.\n",
        "<p>&nbsp;</p>\n",
        "<p>&nbsp;</p>\n",
        "<p>&nbsp;</p>\n",
        "<div>\n",
        "<img src=\"https://drive.google.com/uc?export=view&id=1-ev8R95mUCXpjgSEkISpG0xZORYv2fWu\" width=200 align=\"right\">\n",
        "5. $C_2^{\"}$\n",
        " \\begin{pmatrix}\n",
        "0 & -1 & 0\\\\\n",
        "-1 & 0 & 0\\\\\n",
        "0 & 0 & 0\n",
        "\\end{pmatrix}\n",
        "<p>&nbsp;</p>\n",
        "<p>&nbsp;</p>\n",
        "<p>&nbsp;</p>\n",
        "<img src=\"https://drive.google.com/uc?export=view&id=17ZqM2fMcgz-5t3Lv3d78fv_Qe0YIEf8y\" width=200 align=\"right\">\n",
        "6. i \n",
        " \\begin{pmatrix}\n",
        "-1 & 0 & 0\\\\\n",
        "0 & -1 & 0\\\\\n",
        "0 & 0 & -1\n",
        "\\end{pmatrix}\n",
        "<p>&nbsp;</p>\n",
        "<p>&nbsp;</p>\n",
        "<p>&nbsp;</p>\n",
        "\n",
        "\n",
        "\n",
        "7. $S_4$\n",
        "An improper rotation is defined as a $C_4$ rotation and a $\\sigma_h$. So if we apply both matrix operations we obtain an improper rotation. \n",
        "<img src=\"https://drive.google.com/uc?export=view&id=16Q4cNKY8_Tm5ZCSbM3gtIImj2_QFKVcv\" width=200 align=\"right\">\n",
        "$$\n",
        "\\begin{pmatrix}\n",
        "cos(\\theta) & -sin(\\theta) & 0\\\\\n",
        "sin(\\theta) & cos(\\theta) & 0\\\\\n",
        "0 & 0 & 1\n",
        "\\end{pmatrix}\n",
        "\\times\n",
        "\\begin{pmatrix}\n",
        "1 & 0 & 0\\\\\n",
        "0 & 1 & 0\\\\\n",
        "0 & 0 & -1\n",
        "\\end{pmatrix}\n",
        "$$\n",
        "<p>&nbsp;</p>\n",
        "<p>&nbsp;</p>\n",
        "<p>&nbsp;</p>\n",
        "<img src=\"https://drive.google.com/uc?export=view&id=16kzjdDfOjSzlQs4rmKQlVDWYzqw4-8SX\" width=200 align=\"right\">\n",
        "8. $\\sigma_h$\n",
        "\\begin{pmatrix}\n",
        "1 & 0 & 0\\\\\n",
        "0 & 1 & 0\\\\\n",
        "0 & 0 & -1\n",
        "\\end{pmatrix}\n",
        "<p>&nbsp;</p>\n",
        "<p>&nbsp;</p>\n",
        "<p>&nbsp;</p>\n",
        "<img src=\"https://drive.google.com/uc?export=view&id=19oaZ7V77zPU_hstZox0mbhXdRRO0H9U6\" width=200 align=\"right\">\n",
        "9. $\\sigma_v$\n",
        "\\begin{pmatrix}\n",
        "1 & 0 & 0\\\\\n",
        "0 & -1 & 0\\\\\n",
        "0 & 0 & 1\n",
        "\\end{pmatrix}\n",
        "<p>&nbsp;</p>\n",
        "<p>&nbsp;</p>\n",
        "<p>&nbsp;</p>\n",
        "<img src=\"https://drive.google.com/uc?export=view&id=187HJeodFvlwrjDs5mVN7-HBQ-jbGCVPB\" width=200 align=\"right\">\n",
        "10. $\\sigma_d$\n",
        "\\begin{pmatrix}\n",
        "0 & 1 & 0\\\\\n",
        "1 & 0 & 0\\\\\n",
        "0 & 0 & 1\n",
        "\\end{pmatrix}\n",
        "<p>&nbsp;</p>\n",
        "<p>&nbsp;</p>\n",
        "<p>&nbsp;</p>\n",
        "\n",
        "Images where taken from [Otterbein University: Symmetry resources](https://symotter.org/gallery)"
      ],
      "metadata": {
        "id": "rILbsqGZxziH"
      }
    },
    {
      "cell_type": "markdown",
      "source": [
        "## Putting symmetry operations into code: \n",
        "\n",
        "The numpy library is a widely use python library which facilitates matrix operations. By coding all the previous matrices and applying it to the previously defined molecular structure we can determine the IR bands. The qualitative way of defining the IR bands is by applying these symmetry operations and determining by sight which atoms remain in their original position and which atoms are changed. \n"
      ],
      "metadata": {
        "id": "8ex0bNXMB9Da"
      }
    },
    {
      "cell_type": "code",
      "source": [
        "import sympy as sp \n",
        "from numpy.linalg import multi_dot\n",
        "###These are the symmetry operations for D4h\n",
        "def identity_matrix(natoms):\n",
        "  E=np.identity(3)\n",
        "  E_matrix=np.dot(ligands,E)\n",
        "  return(E_matrix)\n",
        "def c4_matrix():\n",
        "  C4=np.array([[sp.cos(sp.pi/2),-sp.sin(sp.pi/2),0],[sp.sin(sp.pi/2),sp.cos(sp.pi/2),0],[0,0,1]])\n",
        "  c4_matrix=np.dot(ligands,C4)\n",
        "  return(c4_matrix)\n",
        "def c2_matrix():\n",
        "  C2=np.array([[sp.cos(sp.pi),-sp.sin(sp.pi),0],[sp.sin(sp.pi),sp.cos(sp.pi),0],[0,0,1]])\n",
        "  c2_matrix=np.dot(ligands,C2)\n",
        "  return(c2_matrix)  \n",
        "def c2_prime():\n",
        "  C21=np.array([[sp.cos(sp.pi),0,-sp.sin(sp.pi)],[0,1,0],[sp.sin(sp.pi),0,sp.cos(sp.pi)]])\n",
        "  c2_prime_matrix=np.dot(ligands,C21)\n",
        "  return(c2_prime_matrix)\n",
        "def c2_dprime():\n",
        "  c2_dprime=np.array([[0,-1,0],[-1,0,0],[0,0,0]])\n",
        "  c2_dprime_matrix=np.dot(ligands,c2_dprime)\n",
        "  return(c2_dprime_matrix)\n",
        "def inversion(natoms):\n",
        "   E=np.identity(3)\n",
        "   I_matrix=np.dot(ligands,-E)\n",
        "   return(I_matrix)\n",
        "def s4():\n",
        "  C4=np.array([[sp.cos(sp.pi/2),-sp.sin(sp.pi/2),0],[sp.sin(sp.pi/2),sp.cos(sp.pi/2),0],[0,0,1]])\n",
        "  sh=np.array([[1,0,0],[0,1,0],[0,0,-1]])  \n",
        "  s4=multi_dot([ligands,C4,sh])\n",
        "  return(s4)\n",
        "def sigmah():\n",
        "  sh=np.array([[1,0,0],[0,1,0],[0,0,-1]])\n",
        "  sigmah=np.dot(ligands,sh)\n",
        "  return(sigmah)\n",
        "def sigmav():\n",
        "  sv=np.array([[-1,0,0],[0,1,0],[0,0,1]])\n",
        "  sigmav=np.dot(ligands,sv)\n",
        "  return(sigmav)\n",
        "def sigmad():\n",
        "  sd=np.array([[0,1,0],[1,0,0],[0,0,1]])\n",
        "  sigmad=np.dot(ligands,sd)\n",
        "  return(sigmad)\n",
        "\n",
        "E=identity_matrix(n_atoms)\n",
        "C4=c4_matrix()\n",
        "c2=c2_matrix()\n",
        "c21=c2_prime()\n",
        "c22=c2_dprime()\n",
        "I=inversion(n_atoms)\n",
        "S4=s4()\n",
        "SH=sigmah()\n",
        "SV=sigmav()\n",
        "SD=sigmad()\n"
      ],
      "metadata": {
        "id": "XLL_iejACEA3"
      },
      "execution_count": null,
      "outputs": []
    },
    {
      "cell_type": "markdown",
      "source": [
        "## Determining $\\Gamma$ of every symmetry operation\n",
        "\n",
        "Above we have sucessfully coded symmetry operations and put them into variables that can be applied to the ligands matrix and we can determine the $\\Gamma$ for every symmetry operation. \n",
        "\n",
        "In order to determine $\\Gamma$ we need to see if after every symmetry operation the atom has moved. As previously defined, each atom is a row of the coordinate matrix, so we have to compare the resulting matrix from the symmmetry operations to the initial coordinate matrix and if they're identical $\\Gamma = \\sum N_{unmoved\\: atoms} $\n",
        "\n",
        "Translating this into code we can use for loops and conditionals to compare the different rows of the matrices, the altered matrix from the symmetry operation and the original matrix. Using the If conditional we can determine when the two rows are the same, $\\Gamma$ += 1 . "
      ],
      "metadata": {
        "id": "0TPZ1z4FYJHs"
      }
    },
    {
      "cell_type": "code",
      "source": [
        "def gamma(symmetry):\n",
        "  rho=0\n",
        "  row0=0\n",
        "  for row1 in symmetry:\n",
        "    if np.array_equal(row1,ligands[row0]):\n",
        "      rho += 1 \n",
        "    row0 += 1 \n",
        "  return(rho)\n",
        "\n",
        "print(\"Gamma for E is:\",gamma(E))\n",
        "print(\"Gamma for C4 is:\",gamma(C4))\n",
        "print(\"Gamma for C2 is:\",gamma(c2))\n",
        "print(\"Gamma for C2':\",gamma(c21))\n",
        "print(\"Gamma for C2\\\"\", gamma(c22))\n",
        "print(\"Gamma for I is:\",gamma(I))\n",
        "print(\"Gamma for S4 is:\",gamma(S4))\n",
        "print(\"Gamma for 𝜎h:\",gamma(SH))\n",
        "print(\"Gamma for 𝜎v:\",gamma(SV))\n",
        "print(\"Gamma for 𝜎h:\",gamma(SD))"
      ],
      "metadata": {
        "colab": {
          "base_uri": "https://localhost:8080/"
        },
        "id": "ZUZk6_f_sdPo",
        "outputId": "d0763a11-acea-4dca-90a2-0a0724ce1efb"
      },
      "execution_count": null,
      "outputs": [
        {
          "output_type": "stream",
          "name": "stdout",
          "text": [
            "Gamma for E is: 4\n",
            "Gamma for C4 is: 0\n",
            "Gamma for C2 is: 0\n",
            "Gamma for C2': 2\n",
            "Gamma for C2\" 0\n",
            "Gamma for I is: 0\n",
            "Gamma for S4 is: 0\n",
            "Gamma for 𝜎h: 4\n",
            "Gamma for 𝜎v: 2\n",
            "Gamma for 𝜎h: 0\n"
          ]
        }
      ]
    },
    {
      "cell_type": "markdown",
      "source": [
        "With the gamma values obtained, which corresponds to the number of atoms moved when each symmetry operation of the point group is applied, we can create the following table: \n",
        "\n",
        "|   $D_{4h}$  | $E$ | $2C_4$ | $C_2$ | $2C_2$ | $2C_2$ | i | $S_4$ | $\\sigma_h$ | $\\sigma_v$ | $\\sigma_d$ |\n",
        "|:------:|:-:|:---:|:--:|:---:|:---:|:-:|:--:|:------:|:------:|:------:|\n",
        "| $\\Gamma$ | 4 | 0   | 0  | 2   | 0   | 0 | 0  | 4      | 2      | 0      |"
      ],
      "metadata": {
        "id": "3VU0WrAK4svr"
      }
    },
    {
      "cell_type": "markdown",
      "source": [
        "## Determinin vibrational representation of the ligands: \n",
        "\n",
        "Using the character tables we have previously downloaded, we can determine which point groups \n"
      ],
      "metadata": {
        "id": "EfCh5rq_8CDs"
      }
    }
  ]
}